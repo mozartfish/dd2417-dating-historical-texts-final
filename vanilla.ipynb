{
 "cells": [
  {
   "cell_type": "markdown",
   "id": "9c4ef83a",
   "metadata": {},
   "source": [
    "# Vanilla RNN "
   ]
  },
  {
   "cell_type": "code",
   "execution_count": null,
   "id": "719b745f",
   "metadata": {},
   "outputs": [],
   "source": [
    "import numpy as np \n",
    "import pands as"
   ]
  }
 ],
 "metadata": {
  "language_info": {
   "name": "python"
  }
 },
 "nbformat": 4,
 "nbformat_minor": 5
}
