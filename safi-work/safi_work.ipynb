{
 "cells": [
  {
   "cell_type": "markdown",
   "id": "71faf995",
   "metadata": {},
   "source": []
  },
  {
   "cell_type": "code",
   "execution_count": 4,
   "id": "27ef5443",
   "metadata": {},
   "outputs": [],
   "source": [
    "# First run this cell\n",
    "import csv\n",
    "from tqdm import tqdm\n",
    "import string\n",
    "import codecs\n",
    "import torch\n",
    "import torch.optim as optim\n",
    "from torch import nn\n",
    "from torch.utils.data import Dataset, DataLoader\n",
    "from torch.nn.utils import clip_grad_norm_"
   ]
  },
  {
   "cell_type": "code",
   "execution_count": 5,
   "id": "52acb596",
   "metadata": {},
   "outputs": [],
   "source": [
    "# Labels for each text\n",
    "start_year = 1700\n",
    "nb_decades = 20\n",
    "def linear_decades(t):\n",
    "    return start_year + 10*t"
   ]
  },
  {
   "cell_type": "code",
   "execution_count": 6,
   "id": "4e410735",
   "metadata": {},
   "outputs": [
    {
     "name": "stdout",
     "output_type": "stream",
     "text": [
      "['<unk>', '’', '—', '!', '\"', '#', '$', '%', '&', \"'\", '(', ')', '*', '+', ',', '-', '.', '/', ':', ';', '<', '=', '>', '?', '@', '[', '\\\\', ']', '^', '_', '`', '{', '|', '}', '~', 'a', 'b', 'c', 'd', 'e', 'f', 'g', 'h', 'i', 'j', 'k', 'l', 'm', 'n', 'o', 'p', 'q', 'r', 's', 't', 'u', 'v', 'w', 'x', 'y', 'z', 'A', 'B', 'C', 'D', 'E', 'F', 'G', 'H', 'I', 'J', 'K', 'L', 'M', 'N', 'O', 'P', 'Q', 'R', 'S', 'T', 'U', 'V', 'W', 'X', 'Y', 'Z', '0', '1', '2', '3', '4', '5', '6', '7', '8', '9']\n",
      "['1700', '1710', '1720', '1730', '1740', '1750', '1760', '1770', '1780', '1790', '1800', '1810', '1820', '1830', '1840', '1850', '1860', '1870', '1880', '1890']\n"
     ]
    }
   ],
   "source": [
    "# Run this cell to init mappings from characters to IDs and back again,\n",
    "# from words to IDs and back again, and from labels to IDs and back again\n",
    "\n",
    "UNKNOWN = '<unk>'  # Unknown char or unknown word\n",
    "CHARS = [UNKNOWN, '’', '—'] + list(string.punctuation) + list(string.ascii_letters) + list(string.digits)\n",
    "char_to_id = {c:i for i,c in enumerate(CHARS)}\n",
    "PADDING_WORD = '<pad>'\n",
    "id_to_label = ['{}'.format(linear_decades(d)) for d in range(nb_decades)]\n",
    "\n",
    "def label_to_id(label):\n",
    "    return int(label)\n",
    "\n",
    "print(CHARS)\n",
    "print(id_to_label)"
   ]
  },
  {
   "cell_type": "code",
   "execution_count": 7,
   "id": "be8e1fbc",
   "metadata": {},
   "outputs": [],
   "source": [
    "def load_glove_embeddings(embedding_file,\n",
    "                          padding_word=PADDING_WORD, \n",
    "                          unknown_word=UNKNOWN):\n",
    "    \"\"\"\n",
    "    Reads Glove embeddings from a file.\n",
    "\n",
    "    Returns vector dimensionality, the word_to_id mapping (as a dict),\n",
    "    and the embeddings (as a list of lists).\n",
    "    \"\"\"\n",
    "    word_to_id = {}  # Dictionary to store word-to-ID mapping\n",
    "    word_to_id[padding_word] = 0\n",
    "    word_to_id[unknown_word] = 1\n",
    "    embeddings = []\n",
    "    with open(embedding_file, encoding='utf8') as f:\n",
    "        for line in f:\n",
    "            data = line.split()\n",
    "            word = data[0]\n",
    "            vec = [float(x) for x in data[1:]]\n",
    "            embeddings.append(vec)\n",
    "            word_to_id[word] = len(word_to_id)\n",
    "    D = len(embeddings[0])\n",
    "\n",
    "    embeddings.insert(word_to_id[padding_word], [0]*D)  # <PAD> has an embedding of just zeros\n",
    "    embeddings.insert(word_to_id[unknown_word], [-1]*D)      # <UNK> has an embedding of just minus-ones\n",
    "\n",
    "    return D, word_to_id, embeddings"
   ]
  },
  {
   "cell_type": "code",
   "execution_count": 8,
   "id": "2ca7d55d",
   "metadata": {},
   "outputs": [],
   "source": [
    "####### A MODIFIER ########\n",
    "\n",
    "class HistDataset(Dataset):\n",
    "    \"\"\"\n",
    "    A class loading a dataset from a CSV file to be used as an input \n",
    "    to PyTorch DataLoader.\n",
    "\n",
    "    The CSV file has 2 fields: chunk of text and label.\n",
    "\n",
    "    Datapoints are sentences + associated labels for each word. If the \n",
    "    words have not been seen before (i.e, they are not found in the \n",
    "    'word_to_id' dict), they will be mapped to the unknown word '<UNK>'.\n",
    "    \"\"\"\n",
    "\n",
    "    def __init__(self, filename, word_to_id):\n",
    "        reader = csv.reader(codecs.open(filename, encoding='ascii',\n",
    "                                        errors='ignore'), delimiter=';')\n",
    "\n",
    "        self.passages = []\n",
    "        self.labels = []\n",
    "\n",
    "        for row in reader:\n",
    "            if row:\n",
    "                self.passages.append(row[0].strip().split()) #### TOKENIZATION SHOULD BE CHANGED\n",
    "                self.labels.append(label_to_id(row[1].strip()))\n",
    "        \n",
    "\n",
    "    def __len__(self):\n",
    "        return len(self.passages)\n",
    "\n",
    "    def __getitem__(self, idx):\n",
    "        return self.passages[idx], self.labels[idx]"
   ]
  },
  {
   "cell_type": "code",
   "execution_count": 9,
   "id": "e0cd72d6",
   "metadata": {},
   "outputs": [
    {
     "name": "stdout",
     "output_type": "stream",
     "text": [
      "The embedding for the word 'good' looks like this:\n",
      "[-0.35586, 0.5213, -0.6107, -0.30131, 0.94862, -0.31539, -0.59831, 0.12188, -0.031943, 0.55695, -0.10621, 0.63399, -0.4734, -0.075895, 0.38247, 0.081569, 0.82214, 0.2222, -0.0083764, -0.7662, -0.56253, 0.61759, 0.20292, -0.048598, 0.87815, -1.6549, -0.77418, 0.15435, 0.94823, -0.3952, 3.7302, 0.82855, -0.14104, 0.016395, 0.21115, -0.036085, -0.15587, 0.86583, 0.26309, -0.71015, -0.03677, 0.0018282, -0.17704, 0.27032, 0.11026, 0.14133, -0.057322, 0.27207, 0.31305, 0.92771]\n",
      "\n"
     ]
    }
   ],
   "source": [
    "# Let's check out some of these data structures\n",
    "dim, word_to_id, embeddings = load_glove_embeddings('../glove.6B.50d.txt')\n",
    "print(\"The embedding for the word 'good' looks like this:\")\n",
    "print(embeddings[word_to_id['good']])\n",
    "print()"
   ]
  },
  {
   "cell_type": "code",
   "execution_count": 10,
   "id": "54c3226a",
   "metadata": {},
   "outputs": [
    {
     "name": "stdout",
     "output_type": "stream",
     "text": [
      "There are 2 data points in the test set\n",
      "Data point 0 is ['This', 'is', 'an', 'example', 'of', 'training', 'dataset.', 'You', 'would', 'have', 'this', 'kinds', 'of', 'passages', '!']\n",
      "It has the label 1850\n",
      "Data point 1 is ['In', 'the', 'CSV', 'file,', 'the', 'datapoint', 'is', 'a', 'row', 'of', 'words,', 'and', 'the', 'last', 'one', 'is', 'the', 'label', 'of', 'the', 'passage.']\n",
      "It has the label 1730\n"
     ]
    }
   ],
   "source": [
    "# Read the data we are going to use for testing the model\n",
    "test_set = HistDataset('test.csv', word_to_id)\n",
    "print(\"There are\", len(test_set), \"data points in the test set\")\n",
    "\n",
    "for dp in range(2):\n",
    "    sentence, label = test_set[dp]\n",
    "    print(\"Data point\", dp, \"is\", sentence)\n",
    "    print(\"It has the label\", label)"
   ]
  },
  {
   "cell_type": "code",
   "execution_count": 11,
   "id": "b921d227",
   "metadata": {},
   "outputs": [],
   "source": [
    "# Run this cell. The function below will take care of the case of\n",
    "# sequences of unequal lengths.\n",
    "\n",
    "def pad_sequence(batch, padding_word=PADDING_WORD):\n",
    "    batch_data, batch_labels = zip(*batch)\n",
    "    max_len = max(map(len, batch_data))\n",
    "    padded_data = [[b[i] if i < len(b) else padding_word for i in range(max_len)] for b in batch_data]\n",
    "    return padded_data, batch_labels"
   ]
  },
  {
   "cell_type": "code",
   "execution_count": 12,
   "id": "2e1989db",
   "metadata": {},
   "outputs": [
    {
     "data": {
      "text/plain": [
       "([[1, 2, 3, '<pad>'], [4, 5, '<pad>', '<pad>'], [6, 7, 8, 9]],\n",
       " (1750, 1890, 1900))"
      ]
     },
     "execution_count": 12,
     "metadata": {},
     "output_type": "execute_result"
    }
   ],
   "source": [
    "# This is how it works\n",
    "x = [([1,2,3],1750), ([4,5],1890), ([6,7,8,9],1900)]\n",
    "pad_sequence(x)"
   ]
  },
  {
   "cell_type": "code",
   "execution_count": null,
   "id": "8c97552e",
   "metadata": {},
   "outputs": [],
   "source": [
    "class NERClassifier(nn.Module):\n",
    "\n",
    "    def __init__(self, word_embeddings,  # Pre-trained word embeddings\n",
    "                 char_to_id,             # Mapping from chars to ids\n",
    "                 word_to_id,             # Mapping from words to ids\n",
    "                 char_emb_size=16,\n",
    "                 char_hidden_size=25,    # Hidden size of the character-level biRNN\n",
    "                 word_hidden_size=100,   # Hidden size of the word-level biRNN\n",
    "                 class_size=nb_decades,\n",
    "                 padding_word=PADDING_WORD,\n",
    "                 unknown_word=UNKNOWN,\n",
    "                 char_bidirectional=True,\n",
    "                 word_bidirectional=True,\n",
    "                 device='cpu'\n",
    "            ):\n",
    "\n",
    "        super(NERClassifier, self).__init__()\n",
    "        self.padding_word = padding_word\n",
    "        self.unknown_word = unknown_word\n",
    "        self.char_to_id = char_to_id\n",
    "        self.word_to_id = word_to_id\n",
    "        self.char_emb_size = char_emb_size\n",
    "        self.char_hidden_size = char_hidden_size\n",
    "        self.word_hidden_size = word_hidden_size\n",
    "        self.class_size = class_size\n",
    "        self.char_bidirectional = char_bidirectional\n",
    "        self.word_bidirectional = word_bidirectional\n",
    "\n",
    "        # Create an embedding tensor for the words and import the Glove\n",
    "        # embeddings. The embeddings are frozen (i.e., they will not be\n",
    "        # updated during training).\n",
    "        vocabulary_size = len(word_embeddings)\n",
    "        self.word_emb_size = len(word_embeddings[0])\n",
    "        \n",
    "        self.word_emb = nn.Embedding(vocabulary_size, self.word_emb_size)\n",
    "        self.word_emb.weight = nn.Parameter(torch.tensor(word_embeddings, dtype=torch.float), \n",
    "                                            requires_grad=False)\n",
    "\n",
    "        # Create an embedding tensor for character embeddings. These embeddings\n",
    "        # are learnt from scratch (i.e., they are not frozen).\n",
    "        if self.char_emb_size > 0:\n",
    "            self.char_emb = nn.Embedding(len(char_to_id), char_emb_size)\n",
    "            self.char_birnn = nn.GRU(\n",
    "                self.char_emb_size, \n",
    "                self.char_hidden_size, \n",
    "                bidirectional=char_bidirectional,\n",
    "                batch_first=True\n",
    "            )\n",
    "        else:\n",
    "            self.char_hidden_size = 0\n",
    "\n",
    "        multiplier = 2 if self.char_bidirectional else 1\n",
    "        self.word_birnn = nn.GRU(\n",
    "            self.word_emb_size + multiplier * self.char_hidden_size, # input size\n",
    "            self.word_hidden_size,\n",
    "            bidirectional=word_bidirectional,\n",
    "            batch_first=True\n",
    "        )\n",
    "\n",
    "        # Binary classification - 0 if not part of the name, 1 if a name\n",
    "        multiplier = 2 if self.word_bidirectional else 1\n",
    "        self.final_pred = nn.Linear(multiplier * self.word_hidden_size, self.class_size)\n",
    "\n",
    "\n",
    "    def forward(self, x):\n",
    "        \"\"\"\n",
    "        Performs a forward pass of a NER classifier\n",
    "        Takes as input a 2D list `x` of dimensionality (B, T),\n",
    "        where B is the batch size;\n",
    "              T is the max sentence length in the batch (shorter sentences\n",
    "              are already padded with the special token <PAD>)\n",
    "              \n",
    "        Returns logits, i.e. the output of the last linear layer before applying softmax.\n",
    "\n",
    "        :param      x:    A batch of sentences\n",
    "        :type       x:    list of strings\n",
    "        \"\"\"\n",
    "\n",
    "        # First find all word IDs of all words in all sentences in the batch\n",
    "        # and the character IDs of all characters in all words in all sentences\n",
    "        word_ids = [[word_to_id[word] if word in word_to_id.keys() else 1 for word in sentence.split()] for sentence in x]\n",
    "        char_ids = [[[char_to_id[char] if char in char_to_id.keys() else 0 for char in word] for word in sentence.split()] for sentence in x]\n",
    "        max_word_len = max(len(word) for sentence in char_ids for word in sentence)\n",
    "        char_ids = [[[word[i] if i < len(word) else self.unknown_word for i in range(max_word_len)] for word in sentence] for sentence in char_ids]\n",
    "        \n",
    "        # The 'to(self.device)' below is necessary for making sure that \n",
    "        # the model and the data are on the same device (CPU or CUDA).\n",
    "        word_tensor = torch.tensor(word_ids).to(self.device)  \n",
    "        char_tensor = torch.tensor(char_ids).to(self.device)\n",
    "        \n",
    "        # YOUR CODE HERE\n",
    "        \n",
    "        #Dataset parameters\n",
    "        batch_size = x.shape[0]\n",
    "        len_sentence = x.shape[1]\n",
    "        \n",
    "        #Embedding layer\n",
    "        E_w = self.word_emb(word_tensor)\n",
    "        E_c = self.char_emb(char_tensor)\n",
    "        E_c = E_c.reshape(batch_size*len_sentence,max_word_len,self.char_emb_size)\n",
    "        \n",
    "        #RNN\n",
    "        _,hidden_char = self.char_birnn(E_c)\n",
    "        H_c = torch.cat([hidden_char[0],hidden_char[1]],dim=1)\n",
    "        H_c = H_c.reshape(batch_size,len_sentence,2*self.char_hidden_size)\n",
    "        \n",
    "        E_final = torch.cat([E_w,H_c],dim=2)\n",
    "        outputs,_ = self.word_birnn(E_final)\n",
    "        output = torch.cat([outputs[0],outputs[1]],dim = 1)\n",
    "        \n",
    "        final_pred = self.final_pred(output)\n",
    "        \n",
    "        return final_pred\n",
    "        #return torch.zeros((len(x), len(x[0]), 2), requires_grad=True)"
   ]
  },
  {
   "cell_type": "code",
   "execution_count": null,
   "id": "b3b26006",
   "metadata": {},
   "outputs": [],
   "source": [
    "# ================== Hyper-parameters ==================== #\n",
    "\n",
    "learning_rate = 0.001\n",
    "epochs = 5\n",
    "\n",
    "# ======================= Training ======================= #\n",
    "\n",
    "device = 'cuda' if torch.cuda.is_available() else 'cpu'\n",
    "print( \"Running on\", device )\n",
    "\n",
    "dim, word_to_id, embeddings = load_glove_embeddings('glove.6B.50d.txt')\n",
    "training_set = NERDataset('ner_training.csv', word_to_id)\n",
    "training_loader = DataLoader(training_set, batch_size=128, collate_fn=pad_sequence)\n",
    "\n",
    "ner = NERClassifier(embeddings, char_to_id, word_to_id, device=device).to(device)"
   ]
  }
 ],
 "metadata": {
  "kernelspec": {
   "display_name": "Python 3 (ipykernel)",
   "language": "python",
   "name": "python3"
  },
  "language_info": {
   "codemirror_mode": {
    "name": "ipython",
    "version": 3
   },
   "file_extension": ".py",
   "mimetype": "text/x-python",
   "name": "python",
   "nbconvert_exporter": "python",
   "pygments_lexer": "ipython3",
   "version": "3.12.9"
  }
 },
 "nbformat": 4,
 "nbformat_minor": 5
}
