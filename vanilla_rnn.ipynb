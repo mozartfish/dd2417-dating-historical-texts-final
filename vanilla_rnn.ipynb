{
 "cells": [
  {
   "cell_type": "markdown",
   "id": "63287636",
   "metadata": {},
   "source": [
    "# RNN Architecture - Vanilla RNN"
   ]
  },
  {
   "cell_type": "markdown",
   "id": "e8dd439f",
   "metadata": {},
   "source": [
    "## Setup - Libraries, Packages, Embeddings, Paths"
   ]
  },
  {
   "cell_type": "markdown",
   "id": "de086a78",
   "metadata": {},
   "source": [
    "### Libraries "
   ]
  },
  {
   "cell_type": "code",
   "execution_count": null,
   "id": "fee19ba5",
   "metadata": {},
   "outputs": [],
   "source": [
    "import numpy as np \n",
    "import pandas as pd \n",
    "import matplotlib.pyplot as plt\n",
    "import os \n",
    "import urllib.request\n",
    "import zipfile \n",
    "from tqdm import tqdm "
   ]
  },
  {
   "cell_type": "markdown",
   "id": "21d60d68",
   "metadata": {},
   "source": [
    "### Glove Embeddings"
   ]
  },
  {
   "cell_type": "code",
   "execution_count": null,
   "id": "482feee8",
   "metadata": {},
   "outputs": [
    {
     "name": "stdout",
     "output_type": "stream",
     "text": [
      "create directory to store pre-trained glove embeddings\n",
      "download pre-trained Glove Embeddings\n"
     ]
    },
    {
     "name": "stderr",
     "output_type": "stream",
     "text": [
      "100%|█████████▉| 862M/862M [06:57<00:00, 2.54MB/s]   "
     ]
    },
    {
     "name": "stdout",
     "output_type": "stream",
     "text": [
      "unpack embeddings\n",
      "embeddings download complete\n"
     ]
    },
    {
     "name": "stderr",
     "output_type": "stream",
     "text": [
      "862MB [07:10, 2.54MB/s]                           "
     ]
    }
   ],
   "source": [
    "embeddings_path = \"./Embeddings\"\n",
    "def download_progress(block_num, block_size, total_size):\n",
    "    if not hasattr(download_progress, \"pbar\"):\n",
    "        download_progress.pbar = tqdm(total=total_size, unit=\"B\", unit_scale=True)\n",
    "    download_progress.pbar.update(block_size)\n",
    "\n",
    "if not os.path.exists(embeddings_path):\n",
    "    print(f\"create directory to store pre-trained glove embeddings\")\n",
    "    os.makedirs(embeddings_path)\n",
    "    print(f\"download pre-trained Glove Embeddings\")\n",
    "    urllib.request.urlretrieve(\n",
    "        \"http://nlp.stanford.edu/data/glove.6B.zip\",\n",
    "        \"./Embeddings/glove.6B.zip\",\n",
    "        download_progress,\n",
    "    )\n",
    "    print(\"unpack embeddings\")\n",
    "    with zipfile.ZipFile(\"./Embeddings/glove.6B.zip\", \"r\") as zip_ref:\n",
    "        zip_ref.extractall(\"./Embeddings/\")\n",
    "    os.remove(\"./Embeddings/glove.6B.zip\")\n",
    "    \n",
    "    print(\"embeddings download complete\")"
   ]
  },
  {
   "cell_type": "markdown",
   "id": "c8e3d2a5",
   "metadata": {},
   "source": [
    "### Paths "
   ]
  },
  {
   "cell_type": "code",
   "execution_count": 6,
   "id": "8294cebe",
   "metadata": {},
   "outputs": [],
   "source": [
    "glove_6b_50_path = \"./Embeddings/glove.6B.50d.txt\"\n",
    "train_data_path = \"./Datasets/model_data/train_data.csv\"\n",
    "test_data_path = \"./Datasets/model_data/test_data.csv\""
   ]
  },
  {
   "cell_type": "markdown",
   "id": "52462b95",
   "metadata": {},
   "source": [
    "## Data"
   ]
  },
  {
   "cell_type": "markdown",
   "id": "fd07f76b",
   "metadata": {},
   "source": [
    "### Train Data"
   ]
  },
  {
   "cell_type": "code",
   "execution_count": 20,
   "id": "d178c45e",
   "metadata": {},
   "outputs": [
    {
     "data": {
      "text/html": [
       "<div>\n",
       "<style scoped>\n",
       "    .dataframe tbody tr th:only-of-type {\n",
       "        vertical-align: middle;\n",
       "    }\n",
       "\n",
       "    .dataframe tbody tr th {\n",
       "        vertical-align: top;\n",
       "    }\n",
       "\n",
       "    .dataframe thead th {\n",
       "        text-align: right;\n",
       "    }\n",
       "</style>\n",
       "<table border=\"1\" class=\"dataframe\">\n",
       "  <thead>\n",
       "    <tr style=\"text-align: right;\">\n",
       "      <th></th>\n",
       "      <th>text</th>\n",
       "      <th>decade</th>\n",
       "      <th>decade_label</th>\n",
       "      <th>book_title</th>\n",
       "      <th>book_id</th>\n",
       "      <th>paragraph_id</th>\n",
       "      <th>word_count</th>\n",
       "    </tr>\n",
       "  </thead>\n",
       "  <tbody>\n",
       "    <tr>\n",
       "      <th>0</th>\n",
       "      <td>Produced by Gary R. Young THE SCHOOL FOR SCAND...</td>\n",
       "      <td>1770</td>\n",
       "      <td>0</td>\n",
       "      <td>The School for Scandal</td>\n",
       "      <td>1770_The_School_for_Scand</td>\n",
       "      <td>1770_1770_The_School_for_Scand_000</td>\n",
       "      <td>210</td>\n",
       "    </tr>\n",
       "    <tr>\n",
       "      <th>1</th>\n",
       "      <td>the works of Sheridan as he wrote them, I may ...</td>\n",
       "      <td>1770</td>\n",
       "      <td>0</td>\n",
       "      <td>The School for Scandal</td>\n",
       "      <td>1770_The_School_for_Scand</td>\n",
       "      <td>1770_1770_The_School_for_Scand_001</td>\n",
       "      <td>210</td>\n",
       "    </tr>\n",
       "    <tr>\n",
       "      <th>2</th>\n",
       "      <td>he had been nineteen years endeavouring to sat...</td>\n",
       "      <td>1770</td>\n",
       "      <td>0</td>\n",
       "      <td>The School for Scandal</td>\n",
       "      <td>1770_The_School_for_Scand</td>\n",
       "      <td>1770_1770_The_School_for_Scand_002</td>\n",
       "      <td>210</td>\n",
       "    </tr>\n",
       "    <tr>\n",
       "      <th>3</th>\n",
       "      <td>That even you assist her fame to raise, Approv...</td>\n",
       "      <td>1770</td>\n",
       "      <td>0</td>\n",
       "      <td>The School for Scandal</td>\n",
       "      <td>1770_The_School_for_Scand</td>\n",
       "      <td>1770_1770_The_School_for_Scand_003</td>\n",
       "      <td>210</td>\n",
       "    </tr>\n",
       "    <tr>\n",
       "      <th>4</th>\n",
       "      <td>and face-- Poets would study the immortal line...</td>\n",
       "      <td>1770</td>\n",
       "      <td>0</td>\n",
       "      <td>The School for Scandal</td>\n",
       "      <td>1770_The_School_for_Scand</td>\n",
       "      <td>1770_1770_The_School_for_Scand_004</td>\n",
       "      <td>210</td>\n",
       "    </tr>\n",
       "    <tr>\n",
       "      <th>5</th>\n",
       "      <td>who the peril of her lips shall paint? Strip t...</td>\n",
       "      <td>1770</td>\n",
       "      <td>0</td>\n",
       "      <td>The School for Scandal</td>\n",
       "      <td>1770_The_School_for_Scand</td>\n",
       "      <td>1770_1770_The_School_for_Scand_005</td>\n",
       "      <td>210</td>\n",
       "    </tr>\n",
       "    <tr>\n",
       "      <th>6</th>\n",
       "      <td>might well be thought Prerogative in her, and ...</td>\n",
       "      <td>1770</td>\n",
       "      <td>0</td>\n",
       "      <td>The School for Scandal</td>\n",
       "      <td>1770_The_School_for_Scand</td>\n",
       "      <td>1770_1770_The_School_for_Scand_006</td>\n",
       "      <td>210</td>\n",
       "    </tr>\n",
       "    <tr>\n",
       "      <th>7</th>\n",
       "      <td>th' acknowledged praise Has spread conviction ...</td>\n",
       "      <td>1770</td>\n",
       "      <td>0</td>\n",
       "      <td>The School for Scandal</td>\n",
       "      <td>1770_The_School_for_Scand</td>\n",
       "      <td>1770_1770_The_School_for_Scand_007</td>\n",
       "      <td>210</td>\n",
       "    </tr>\n",
       "    <tr>\n",
       "      <th>8</th>\n",
       "      <td>LAST NIGHT LORD L. [Sips] WAS CAUGHT WITH LADY...</td>\n",
       "      <td>1770</td>\n",
       "      <td>0</td>\n",
       "      <td>The School for Scandal</td>\n",
       "      <td>1770_The_School_for_Scand</td>\n",
       "      <td>1770_1770_The_School_for_Scand_008</td>\n",
       "      <td>210</td>\n",
       "    </tr>\n",
       "    <tr>\n",
       "      <th>9</th>\n",
       "      <td>he would through-- He'll fight--that's write--...</td>\n",
       "      <td>1770</td>\n",
       "      <td>0</td>\n",
       "      <td>The School for Scandal</td>\n",
       "      <td>1770_The_School_for_Scand</td>\n",
       "      <td>1770_1770_The_School_for_Scand_009</td>\n",
       "      <td>210</td>\n",
       "    </tr>\n",
       "  </tbody>\n",
       "</table>\n",
       "</div>"
      ],
      "text/plain": [
       "                                                text  decade  decade_label  \\\n",
       "0  Produced by Gary R. Young THE SCHOOL FOR SCAND...    1770             0   \n",
       "1  the works of Sheridan as he wrote them, I may ...    1770             0   \n",
       "2  he had been nineteen years endeavouring to sat...    1770             0   \n",
       "3  That even you assist her fame to raise, Approv...    1770             0   \n",
       "4  and face-- Poets would study the immortal line...    1770             0   \n",
       "5  who the peril of her lips shall paint? Strip t...    1770             0   \n",
       "6  might well be thought Prerogative in her, and ...    1770             0   \n",
       "7  th' acknowledged praise Has spread conviction ...    1770             0   \n",
       "8  LAST NIGHT LORD L. [Sips] WAS CAUGHT WITH LADY...    1770             0   \n",
       "9  he would through-- He'll fight--that's write--...    1770             0   \n",
       "\n",
       "               book_title                    book_id  \\\n",
       "0  The School for Scandal  1770_The_School_for_Scand   \n",
       "1  The School for Scandal  1770_The_School_for_Scand   \n",
       "2  The School for Scandal  1770_The_School_for_Scand   \n",
       "3  The School for Scandal  1770_The_School_for_Scand   \n",
       "4  The School for Scandal  1770_The_School_for_Scand   \n",
       "5  The School for Scandal  1770_The_School_for_Scand   \n",
       "6  The School for Scandal  1770_The_School_for_Scand   \n",
       "7  The School for Scandal  1770_The_School_for_Scand   \n",
       "8  The School for Scandal  1770_The_School_for_Scand   \n",
       "9  The School for Scandal  1770_The_School_for_Scand   \n",
       "\n",
       "                         paragraph_id  word_count  \n",
       "0  1770_1770_The_School_for_Scand_000         210  \n",
       "1  1770_1770_The_School_for_Scand_001         210  \n",
       "2  1770_1770_The_School_for_Scand_002         210  \n",
       "3  1770_1770_The_School_for_Scand_003         210  \n",
       "4  1770_1770_The_School_for_Scand_004         210  \n",
       "5  1770_1770_The_School_for_Scand_005         210  \n",
       "6  1770_1770_The_School_for_Scand_006         210  \n",
       "7  1770_1770_The_School_for_Scand_007         210  \n",
       "8  1770_1770_The_School_for_Scand_008         210  \n",
       "9  1770_1770_The_School_for_Scand_009         210  "
      ]
     },
     "execution_count": 20,
     "metadata": {},
     "output_type": "execute_result"
    }
   ],
   "source": [
    "train_df = pd.read_csv(train_data_path)\n",
    "train_df.head(10)"
   ]
  },
  {
   "cell_type": "code",
   "execution_count": 21,
   "id": "76f5e340",
   "metadata": {},
   "outputs": [
    {
     "name": "stdout",
     "output_type": "stream",
     "text": [
      "<class 'pandas.core.frame.DataFrame'>\n",
      "RangeIndex: 84860 entries, 0 to 84859\n",
      "Data columns (total 7 columns):\n",
      " #   Column        Non-Null Count  Dtype \n",
      "---  ------        --------------  ----- \n",
      " 0   text          84860 non-null  object\n",
      " 1   decade        84860 non-null  int64 \n",
      " 2   decade_label  84860 non-null  int64 \n",
      " 3   book_title    84860 non-null  object\n",
      " 4   book_id       84860 non-null  object\n",
      " 5   paragraph_id  84860 non-null  object\n",
      " 6   word_count    84860 non-null  int64 \n",
      "dtypes: int64(3), object(4)\n",
      "memory usage: 4.5+ MB\n"
     ]
    }
   ],
   "source": [
    "train_df.info()"
   ]
  },
  {
   "cell_type": "markdown",
   "id": "71cdff6f",
   "metadata": {},
   "source": [
    "### Test Data"
   ]
  },
  {
   "cell_type": "code",
   "execution_count": 22,
   "id": "5e2f35c9",
   "metadata": {},
   "outputs": [
    {
     "data": {
      "text/html": [
       "<div>\n",
       "<style scoped>\n",
       "    .dataframe tbody tr th:only-of-type {\n",
       "        vertical-align: middle;\n",
       "    }\n",
       "\n",
       "    .dataframe tbody tr th {\n",
       "        vertical-align: top;\n",
       "    }\n",
       "\n",
       "    .dataframe thead th {\n",
       "        text-align: right;\n",
       "    }\n",
       "</style>\n",
       "<table border=\"1\" class=\"dataframe\">\n",
       "  <thead>\n",
       "    <tr style=\"text-align: right;\">\n",
       "      <th></th>\n",
       "      <th>text</th>\n",
       "      <th>decade</th>\n",
       "      <th>decade_label</th>\n",
       "      <th>book_title</th>\n",
       "      <th>book_id</th>\n",
       "      <th>paragraph_id</th>\n",
       "      <th>word_count</th>\n",
       "    </tr>\n",
       "  </thead>\n",
       "  <tbody>\n",
       "    <tr>\n",
       "      <th>0</th>\n",
       "      <td>An Inquiry into the Nature and Causes of the W...</td>\n",
       "      <td>1770</td>\n",
       "      <td>0</td>\n",
       "      <td>An Inquiry into the Nature and Causes of the W...</td>\n",
       "      <td>1770_An_Inquiry_into_the_</td>\n",
       "      <td>1770_1770_An_Inquiry_into_the__000</td>\n",
       "      <td>210</td>\n",
       "    </tr>\n",
       "    <tr>\n",
       "      <th>1</th>\n",
       "      <td>THE EXPENSE OF MAINTAINING THE NATIONAL CAPITA...</td>\n",
       "      <td>1770</td>\n",
       "      <td>0</td>\n",
       "      <td>An Inquiry into the Nature and Causes of the W...</td>\n",
       "      <td>1770_An_Inquiry_into_the_</td>\n",
       "      <td>1770_1770_An_Inquiry_into_the__001</td>\n",
       "      <td>210</td>\n",
       "    </tr>\n",
       "    <tr>\n",
       "      <th>2</th>\n",
       "      <td>PRODUCE OF LAND, AS EITHER THE SOLE OR THE PRI...</td>\n",
       "      <td>1770</td>\n",
       "      <td>0</td>\n",
       "      <td>An Inquiry into the Nature and Causes of the W...</td>\n",
       "      <td>1770_An_Inquiry_into_the_</td>\n",
       "      <td>1770_1770_An_Inquiry_into_the__002</td>\n",
       "      <td>210</td>\n",
       "    </tr>\n",
       "    <tr>\n",
       "      <th>3</th>\n",
       "      <td>Whatever be the soil, climate, or extent of te...</td>\n",
       "      <td>1770</td>\n",
       "      <td>0</td>\n",
       "      <td>An Inquiry into the Nature and Causes of the W...</td>\n",
       "      <td>1770_An_Inquiry_into_the_</td>\n",
       "      <td>1770_1770_An_Inquiry_into_the__003</td>\n",
       "      <td>210</td>\n",
       "    </tr>\n",
       "    <tr>\n",
       "      <th>4</th>\n",
       "      <td>of those who work; yet the produce of the whol...</td>\n",
       "      <td>1770</td>\n",
       "      <td>0</td>\n",
       "      <td>An Inquiry into the Nature and Causes of the W...</td>\n",
       "      <td>1770_An_Inquiry_into_the_</td>\n",
       "      <td>1770_1770_An_Inquiry_into_the__004</td>\n",
       "      <td>210</td>\n",
       "    </tr>\n",
       "    <tr>\n",
       "      <th>5</th>\n",
       "      <td>of capital stock, of the manner in which it is...</td>\n",
       "      <td>1770</td>\n",
       "      <td>0</td>\n",
       "      <td>An Inquiry into the Nature and Causes of the W...</td>\n",
       "      <td>1770_An_Inquiry_into_the_</td>\n",
       "      <td>1770_1770_An_Inquiry_into_the__005</td>\n",
       "      <td>210</td>\n",
       "    </tr>\n",
       "    <tr>\n",
       "      <th>6</th>\n",
       "      <td>which some magnify the importance of that indu...</td>\n",
       "      <td>1770</td>\n",
       "      <td>0</td>\n",
       "      <td>An Inquiry into the Nature and Causes of the W...</td>\n",
       "      <td>1770_An_Inquiry_into_the_</td>\n",
       "      <td>1770_1770_An_Inquiry_into_the__006</td>\n",
       "      <td>210</td>\n",
       "    </tr>\n",
       "    <tr>\n",
       "      <th>7</th>\n",
       "      <td>the expenses incumbent on the whole society, a...</td>\n",
       "      <td>1770</td>\n",
       "      <td>0</td>\n",
       "      <td>An Inquiry into the Nature and Causes of the W...</td>\n",
       "      <td>1770_An_Inquiry_into_the_</td>\n",
       "      <td>1770_1770_An_Inquiry_into_the__007</td>\n",
       "      <td>210</td>\n",
       "    </tr>\n",
       "    <tr>\n",
       "      <th>8</th>\n",
       "      <td>trifling manufactures which are destined to su...</td>\n",
       "      <td>1770</td>\n",
       "      <td>0</td>\n",
       "      <td>An Inquiry into the Nature and Causes of the W...</td>\n",
       "      <td>1770_An_Inquiry_into_the_</td>\n",
       "      <td>1770_1770_An_Inquiry_into_the__008</td>\n",
       "      <td>210</td>\n",
       "    </tr>\n",
       "    <tr>\n",
       "      <th>9</th>\n",
       "      <td>machinery employed in it (to the invention of ...</td>\n",
       "      <td>1770</td>\n",
       "      <td>0</td>\n",
       "      <td>An Inquiry into the Nature and Causes of the W...</td>\n",
       "      <td>1770_An_Inquiry_into_the_</td>\n",
       "      <td>1770_1770_An_Inquiry_into_the__009</td>\n",
       "      <td>210</td>\n",
       "    </tr>\n",
       "  </tbody>\n",
       "</table>\n",
       "</div>"
      ],
      "text/plain": [
       "                                                text  decade  decade_label  \\\n",
       "0  An Inquiry into the Nature and Causes of the W...    1770             0   \n",
       "1  THE EXPENSE OF MAINTAINING THE NATIONAL CAPITA...    1770             0   \n",
       "2  PRODUCE OF LAND, AS EITHER THE SOLE OR THE PRI...    1770             0   \n",
       "3  Whatever be the soil, climate, or extent of te...    1770             0   \n",
       "4  of those who work; yet the produce of the whol...    1770             0   \n",
       "5  of capital stock, of the manner in which it is...    1770             0   \n",
       "6  which some magnify the importance of that indu...    1770             0   \n",
       "7  the expenses incumbent on the whole society, a...    1770             0   \n",
       "8  trifling manufactures which are destined to su...    1770             0   \n",
       "9  machinery employed in it (to the invention of ...    1770             0   \n",
       "\n",
       "                                          book_title  \\\n",
       "0  An Inquiry into the Nature and Causes of the W...   \n",
       "1  An Inquiry into the Nature and Causes of the W...   \n",
       "2  An Inquiry into the Nature and Causes of the W...   \n",
       "3  An Inquiry into the Nature and Causes of the W...   \n",
       "4  An Inquiry into the Nature and Causes of the W...   \n",
       "5  An Inquiry into the Nature and Causes of the W...   \n",
       "6  An Inquiry into the Nature and Causes of the W...   \n",
       "7  An Inquiry into the Nature and Causes of the W...   \n",
       "8  An Inquiry into the Nature and Causes of the W...   \n",
       "9  An Inquiry into the Nature and Causes of the W...   \n",
       "\n",
       "                     book_id                        paragraph_id  word_count  \n",
       "0  1770_An_Inquiry_into_the_  1770_1770_An_Inquiry_into_the__000         210  \n",
       "1  1770_An_Inquiry_into_the_  1770_1770_An_Inquiry_into_the__001         210  \n",
       "2  1770_An_Inquiry_into_the_  1770_1770_An_Inquiry_into_the__002         210  \n",
       "3  1770_An_Inquiry_into_the_  1770_1770_An_Inquiry_into_the__003         210  \n",
       "4  1770_An_Inquiry_into_the_  1770_1770_An_Inquiry_into_the__004         210  \n",
       "5  1770_An_Inquiry_into_the_  1770_1770_An_Inquiry_into_the__005         210  \n",
       "6  1770_An_Inquiry_into_the_  1770_1770_An_Inquiry_into_the__006         210  \n",
       "7  1770_An_Inquiry_into_the_  1770_1770_An_Inquiry_into_the__007         210  \n",
       "8  1770_An_Inquiry_into_the_  1770_1770_An_Inquiry_into_the__008         210  \n",
       "9  1770_An_Inquiry_into_the_  1770_1770_An_Inquiry_into_the__009         210  "
      ]
     },
     "execution_count": 22,
     "metadata": {},
     "output_type": "execute_result"
    }
   ],
   "source": [
    "test_df = pd.read_csv(test_data_path)\n",
    "test_df.head(10)"
   ]
  },
  {
   "cell_type": "code",
   "execution_count": 23,
   "id": "ca452fe0",
   "metadata": {},
   "outputs": [
    {
     "name": "stdout",
     "output_type": "stream",
     "text": [
      "<class 'pandas.core.frame.DataFrame'>\n",
      "RangeIndex: 25538 entries, 0 to 25537\n",
      "Data columns (total 7 columns):\n",
      " #   Column        Non-Null Count  Dtype \n",
      "---  ------        --------------  ----- \n",
      " 0   text          25538 non-null  object\n",
      " 1   decade        25538 non-null  int64 \n",
      " 2   decade_label  25538 non-null  int64 \n",
      " 3   book_title    25538 non-null  object\n",
      " 4   book_id       25538 non-null  object\n",
      " 5   paragraph_id  25538 non-null  object\n",
      " 6   word_count    25538 non-null  int64 \n",
      "dtypes: int64(3), object(4)\n",
      "memory usage: 1.4+ MB\n"
     ]
    }
   ],
   "source": [
    "test_df.info()"
   ]
  },
  {
   "cell_type": "markdown",
   "id": "4b3e026e",
   "metadata": {},
   "source": [
    "## Tokenization"
   ]
  },
  {
   "cell_type": "markdown",
   "id": "76e98180",
   "metadata": {},
   "source": [
    "### Train Data - First paragraph"
   ]
  },
  {
   "cell_type": "code",
   "execution_count": 24,
   "id": "04f23932",
   "metadata": {},
   "outputs": [
    {
     "data": {
      "text/plain": [
       "'Produced by Gary R. Young THE SCHOOL FOR SCANDAL A COMEDY A PORTRAIT<1> BY R. B. SHERIDAN, ESQ. Transcriber\\'s Comments on the preparation of this E-Text: SQUARE BRACKETS: The square brackets, i.e. [ ] are copied from the printed book, without change, except that a closing bracket \"]\" has been added to the stage directions. FOOTNOTES: For this E-Text version of the book, the footnotes have been consolidated at the end of the play. Numbering of the footnotes has been changed, and each footnote is given a unique identity in the form <X>. CHANGES TO THE TEXT: Character names have been expanded. For Example, SIR BENJAMIN was SIR BEN. THE TEXT OF THE SCHOOL FOR SCANDAL The text of THE SCHOOL FOR SCANDAL in this edition is taken, by Mr. Fraser Rae\\'s generous permission, from his SHERIDAN\\'S PLAYS NOW PRINTED AS HE WROTE THEM. In his Prefatory Notes (xxxvii), Mr. Rae writes: \"The manuscript of it [THE SCHOOL FOR SCANDAL] in Sheridan\\'s own handwriting is preserved at Frampton Court and is now printed in this volume. This version differs in many respects from that which is generally known, and I think it is even better than that which has hitherto been read and acted. As I have endeavoured to reproduce'"
      ]
     },
     "execution_count": 24,
     "metadata": {},
     "output_type": "execute_result"
    }
   ],
   "source": [
    "train_data_first = train_df.iloc[0, 0]\n",
    "train_data_first"
   ]
  },
  {
   "cell_type": "markdown",
   "id": "5b1c8eae",
   "metadata": {},
   "source": [
    "### Test Data - First Paragraph"
   ]
  },
  {
   "cell_type": "code",
   "execution_count": 25,
   "id": "0e6bca4c",
   "metadata": {},
   "outputs": [
    {
     "data": {
      "text/plain": [
       "'An Inquiry into the Nature and Causes of the Wealth of Nations by Adam Smith Contents INTRODUCTION AND PLAN OF THE WORK. BOOK I. OF THE CAUSES OF IMPROVEMENT IN THE PRODUCTIVE POWERS OF LABOUR, AND OF THE ORDER ACCORDING TO WHICH ITS PRODUCE IS NATURALLY DISTRIBUTED AMONG THE DIFFERENT RANKS OF THE PEOPLE. CHAPTER I. OF THE DIVISION OF LABOUR. CHAPTER II. OF THE PRINCIPLE WHICH GIVES OCCASION TO THE DIVISION OF LABOUR. CHAPTER III. THAT THE DIVISION OF LABOUR IS LIMITED BY THE EXTENT OF THE MARKET. CHAPTER IV. OF THE ORIGIN AND USE OF MONEY. CHAPTER V. OF THE REAL AND NOMINAL PRICE OF COMMODITIES, OR OF THEIR PRICE IN LABOUR, AND THEIR PRICE IN MONEY. CHAPTER VI. OF THE COMPONENT PART OF THE PRICE OF COMMODITIES. CHAPTER VII. OF THE NATURAL AND MARKET PRICE OF COMMODITIES. CHAPTER VIII. OF THE WAGES OF LABOUR. CHAPTER IX. OF THE PROFITS OF STOCK. CHAPTER X. OF WAGES AND PROFIT IN THE DIFFERENT EMPLOYMENTS OF LABOUR AND STOCK. CHAPTER XI. OF THE RENT OF LAND. BOOK II. OF THE NATURE, ACCUMULATION, AND EMPLOYMENT OF STOCK. CHAPTER I. OF THE DIVISION OF STOCK. CHAPTER II. OF MONEY, CONSIDERED AS A PARTICULAR BRANCH OF THE GENERAL STOCK OF THE SOCIETY, OR OF'"
      ]
     },
     "execution_count": 25,
     "metadata": {},
     "output_type": "execute_result"
    }
   ],
   "source": [
    "test_data_first = test_df.iloc[0, 0]\n",
    "test_data_first"
   ]
  },
  {
   "cell_type": "markdown",
   "id": "042d7ca4",
   "metadata": {},
   "source": [
    "##"
   ]
  }
 ],
 "metadata": {
  "kernelspec": {
   "display_name": "workbench",
   "language": "python",
   "name": "python3"
  },
  "language_info": {
   "codemirror_mode": {
    "name": "ipython",
    "version": 3
   },
   "file_extension": ".py",
   "mimetype": "text/x-python",
   "name": "python",
   "nbconvert_exporter": "python",
   "pygments_lexer": "ipython3",
   "version": "3.12.9"
  }
 },
 "nbformat": 4,
 "nbformat_minor": 5
}
