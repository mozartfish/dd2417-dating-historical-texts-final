{
 "cells": [
  {
   "cell_type": "markdown",
   "id": "63287636",
   "metadata": {},
   "source": [
    "# RNN Architecture - Vanilla RNN"
   ]
  },
  {
   "cell_type": "markdown",
   "id": "e8dd439f",
   "metadata": {},
   "source": [
    "## Setup - Libraries, Packages, Embeddings, Paths"
   ]
  },
  {
   "cell_type": "markdown",
   "id": "de086a78",
   "metadata": {},
   "source": [
    "### Libraries "
   ]
  },
  {
   "cell_type": "code",
   "execution_count": 2,
   "id": "fee19ba5",
   "metadata": {},
   "outputs": [],
   "source": [
    "import numpy as np \n",
    "import pandas as pd \n",
    "import matplotlib.pyplot as plt\n",
    "import os \n",
    "import urllib.request\n",
    "import zipfile \n",
    "from tqdm import tqdm \n"
   ]
  },
  {
   "cell_type": "markdown",
   "id": "0873a40a",
   "metadata": {},
   "source": [
    "### Paths"
   ]
  },
  {
   "cell_type": "code",
   "execution_count": 3,
   "id": "ca776db7",
   "metadata": {},
   "outputs": [],
   "source": [
    "embeddings_path = './Embeddings'\n",
    "glove_6b_50_path = './Embeddings/glove.6B.50d.txt'\n",
    "train_data_path = \"./Datasets/model_data/train_data.csv\"\n",
    "test_data_path = \"./Datasets/model_data/test_data.csv\"\n"
   ]
  },
  {
   "cell_type": "markdown",
   "id": "21d60d68",
   "metadata": {},
   "source": [
    "### Glove Embeddings"
   ]
  },
  {
   "cell_type": "code",
   "execution_count": null,
   "id": "482feee8",
   "metadata": {},
   "outputs": [
    {
     "name": "stdout",
     "output_type": "stream",
     "text": [
      "create directory to store pre-trained glove embeddings\n",
      "download pre-trained Glove Embeddings\n"
     ]
    },
    {
     "name": "stderr",
     "output_type": "stream",
     "text": [
      "  6%|▌         | 52.2M/862M [00:26<09:29, 1.42MB/s]"
     ]
    }
   ],
   "source": [
    "def download_progress(block_num, block_size, total_size):\n",
    "    if not hasattr(download_progress, \"pbar\"):\n",
    "        download_progress.pbar = tqdm(total=total_size, unit=\"B\", unit_scale=True)\n",
    "    download_progress.pbar.update(block_size)\n",
    "\n",
    "if not os.path.exists(embeddings_path):\n",
    "    print(f\"create directory to store pre-trained glove embeddings\")\n",
    "    os.makedirs(embeddings_path)\n",
    "    print(f\"download pre-trained Glove Embeddings\")\n",
    "    urllib.request.urlretrieve(\n",
    "        \"http://nlp.stanford.edu/data/glove.6B.zip\",\n",
    "        \"./Embeddings/glove.6B.zip\",\n",
    "        download_progress,\n",
    "    )\n",
    "    print(\"unpack embeddings\")\n",
    "    with zipfile.ZipFile(\"./Embeddings/glove.6B.zip\", \"r\") as zip_ref:\n",
    "        zip_ref.extractall(\"./Embeddings/\")\n",
    "    os.remove(\"./Embeddings/glove.6B.zip\")\n",
    "    \n",
    "    print(\"embeddings download complete\")"
   ]
  },
  {
   "cell_type": "markdown",
   "id": "52462b95",
   "metadata": {},
   "source": [
    "## Data"
   ]
  },
  {
   "cell_type": "markdown",
   "id": "042d7ca4",
   "metadata": {},
   "source": [
    "##"
   ]
  }
 ],
 "metadata": {
  "kernelspec": {
   "display_name": "workbench",
   "language": "python",
   "name": "python3"
  },
  "language_info": {
   "codemirror_mode": {
    "name": "ipython",
    "version": 3
   },
   "file_extension": ".py",
   "mimetype": "text/x-python",
   "name": "python",
   "nbconvert_exporter": "python",
   "pygments_lexer": "ipython3",
   "version": "3.12.9"
  }
 },
 "nbformat": 4,
 "nbformat_minor": 5
}
